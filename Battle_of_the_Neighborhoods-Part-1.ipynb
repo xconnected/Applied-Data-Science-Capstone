{
 "cells": [
  {
   "cell_type": "markdown",
   "metadata": {},
   "source": [
    "# Battle of the Neighborhoods - Part 1"
   ]
  },
  {
   "cell_type": "markdown",
   "metadata": {},
   "source": [
    "## 1. Introduction\n",
    "\n",
    "### Background\n",
    "\n",
    "A group of Swiss investors are interested to open a **Asian Tapas Bar** in Zürich (Switzerland). The venie shall leverage *modern food offering* and a *relaxed atmosphere* and is open from mid-morning to late evening.\n",
    "It is supposed to attract people for various occasions such spend time for a short break, taking lunch, go for after work drinks, take dinner or just meet and hang out with friends. \n",
    "\n",
    "An experienced person have been appointed to manage all aspects of this project from planning to execution and finally shall run the bar. This person, currently living in London, will move to Zürich and needs some advise  where to look for an appartement.\n",
    "\n",
    "\n",
    "### Assignments\n",
    "\n",
    "#### 1 Select Location for Venue\n",
    "\n",
    "Zürich is in internatioal terms a small city and has a high density of restaurants and bars. Choosing the right location is paramount to make the success of this project. It is desired to have the venue centrally located with a good connectivity to public transport.\n",
    "\n",
    "\n",
    "#### 2 Select as good Living Area for the Venue Manager \n",
    "\n",
    "The appointed person needs an appartement in Zürich. In an interview the following requirement have been captured: Residential area, well connected to the city, short commute time to the venuw and moderate comfort  with respect to nearby groceries, gym amd recreation area."
   ]
  },
  {
   "cell_type": "markdown",
   "metadata": {},
   "source": [
    "##  2. Data section\n",
    "\n",
    "### Description of data required\n",
    "To perform both the listed assignments different kind of datasets are requried:\n",
    "\n",
    "#### Structural Data\n",
    "Describing how is the city organized e.g. Districts, Neighborhoods, etc. and how well areas are connected with the public transport system of Zürich.\n",
    "\n",
    "#### Demographics Data\n",
    "Population and growth per area including some data on average income per area, nationalitities.\n",
    "\n",
    "#### Density and Type of Venues \n",
    "To explore venues across the city and its areas data is fetched from Foursquare\n",
    "\n",
    "### Usage of collected data\n",
    "Once the data has been collected, cleansed and understood it is being used to build a picture about the city. \n",
    "With the data and insights gained, the following questions shall be answered:\n",
    "\n",
    "- How is Zürich structured?\n",
    "- Where people living?\n",
    "- What kind of people is living where?\n",
    "- How are areas connected to public transport?\n",
    "- Where would be a good place to open a new bar?\n",
    "- Where are assumed competitiors located?\n",
    "\n",
    "The anserws for these questions build the foundation for a educated decision making.\n"
   ]
  },
  {
   "cell_type": "code",
   "execution_count": null,
   "metadata": {},
   "outputs": [],
   "source": []
  }
 ],
 "metadata": {
  "kernelspec": {
   "display_name": "Python 3",
   "language": "python",
   "name": "python3"
  },
  "language_info": {
   "codemirror_mode": {
    "name": "ipython",
    "version": 3
   },
   "file_extension": ".py",
   "mimetype": "text/x-python",
   "name": "python",
   "nbconvert_exporter": "python",
   "pygments_lexer": "ipython3",
   "version": "3.7.5"
  }
 },
 "nbformat": 4,
 "nbformat_minor": 2
}
